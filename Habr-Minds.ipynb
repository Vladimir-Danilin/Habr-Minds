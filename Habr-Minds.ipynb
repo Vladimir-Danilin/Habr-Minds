{
 "cells": [
  {
   "cell_type": "markdown",
   "id": "6306b6ce",
   "metadata": {},
   "source": [
    "# Установка/импорт библиотек"
   ]
  },
  {
   "cell_type": "code",
   "execution_count": null,
   "id": "3a3970cd",
   "metadata": {},
   "outputs": [],
   "source": [
    "%pip install beautifulsoup4 requests fake-useragent lxml\n",
    "%pip install pandas scikit-learn joblib pymorphy2 nltk\n",
    "%pip install telebot"
   ]
  },
  {
   "cell_type": "code",
   "execution_count": 1,
   "id": "9d456cfe-f472-43d1-8582-c43563f9927e",
   "metadata": {
    "tags": []
   },
   "outputs": [],
   "source": [
    "from bs4 import BeautifulSoup\n",
    "import requests\n",
    "from fake_useragent import UserAgent\n",
    "import pandas as pd\n",
    "import csv\n",
    "import datetime\n",
    "import warnings as wr\n",
    "wr.filterwarnings('ignore')"
   ]
  },
  {
   "cell_type": "markdown",
   "id": "943a0972",
   "metadata": {},
   "source": [
    "# Парсинг данных"
   ]
  },
  {
   "cell_type": "code",
   "execution_count": 4,
   "id": "e064f7d5-e50b-41cb-b010-b2349175c148",
   "metadata": {
    "tags": []
   },
   "outputs": [],
   "source": [
    "ua = UserAgent()\n",
    "\n",
    "headers = {\n",
    "    'accept': 'application/json, text/plain, */*',\n",
    "    'user-Agent': ua.google,\n",
    "}\n",
    "\n",
    "article_dict = {}\n",
    "themes = ['programming',\n",
    "'artificial_intelligence',\n",
    "'robot',\n",
    "'design',\n",
    "'gamedev',\n",
    "'sound']\n",
    "\n",
    "for i in themes:\n",
    "    for j in range(1, 41):\n",
    "        try:\n",
    "            url = f'https://habr.com/ru/hubs/{i}/articles/page{j}/'\n",
    "            req = requests.get(url, headers=headers).text\n",
    "            soup = BeautifulSoup(req, 'lxml')\n",
    "            all_hrefs_articles = soup.find_all('a', class_='tm-title__link')  # получаем статьи\n",
    "\n",
    "            for article in all_hrefs_articles:  # проходимся по статьям\n",
    "                article_name = article.find('span').text  # собираем названия статей\n",
    "                article_link = f'https://habr.com{article.get(\"href\")}'  # ссылки на статьи\n",
    "                article_dict[article_name] = article_link\n",
    "        except:\n",
    "            break"
   ]
  },
  {
   "cell_type": "code",
   "execution_count": 3,
   "id": "45aaf98c-6acc-42dd-8cb3-569d73715397",
   "metadata": {},
   "outputs": [
    {
     "name": "stdout",
     "output_type": "stream",
     "text": [
      "CPU times: total: 3min 54s\n",
      "Wall time: 55min 10s\n"
     ]
    }
   ],
   "source": [
    "%%time\n",
    "karma = []\n",
    "rating = []\n",
    "description = []\n",
    "difficulty = []\n",
    "read_time = []\n",
    "views = []\n",
    "liked = []\n",
    "favorite = []\n",
    "comments = []\n",
    "tags = []\n",
    "hubs = []\n",
    "them = []\n",
    "\n",
    "text = ''\n",
    "t_tags = ''\n",
    "t_hubs = ''\n",
    "\n",
    "for i, j in article_dict.items():\n",
    "    req = requests.get(j, headers=headers).text\n",
    "    soup = BeautifulSoup(req, 'lxml')\n",
    "    content = soup.find('div', id='post-content-body')\n",
    "    try:\n",
    "        try:\n",
    "            for k in content.find_all('p'):\n",
    "                text += k.text\n",
    "            description.append(text)\n",
    "            text = ''\n",
    "        except:\n",
    "            for k in content.find_all('br'):\n",
    "                text += k.text\n",
    "            description.append(text)\n",
    "            text = ''\n",
    "    except:\n",
    "        continue\n",
    "    \n",
    "    stats = soup.find('div', class_='tm-article-snippet__stats')\n",
    "    difficulty.append('Неопределенный' if stats.find('span', class_='tm-article-complexity__label') == None else stats.find('span', class_='tm-article-complexity__label').text)\n",
    "    read_time.append('Неопределенно' if stats.find('span', class_='tm-article-reading-time__label') == None else stats.find('span', class_='tm-article-reading-time__label').text)\n",
    "    views.append(stats.find('span', class_='tm-icon-counter__value').text)\n",
    "    try:\n",
    "        user = soup.find('div', class_='tm-user-card__meta')\n",
    "        karma.append('0' if user.find('div', class_='tm-karma__votes tm-karma__votes_positive') == None else user.find('div', class_='tm-karma__votes tm-karma__votes_positive').text)\n",
    "        rating.append(user.find('span').text)\n",
    "    except:\n",
    "        continue\n",
    "    info = soup.find('div', 'tm-article-sticky-panel')\n",
    "    liked.append(info.find('div', 'tm-article-rating tm-data-icons__item').find('span').text)\n",
    "    favorite.append(info.find('span', 'bookmarks-button__counter').text)\n",
    "    comments.append(info.find('div', 'tm-article-comments-counter-link tm-data-icons__item').text.split()[-1])\n",
    "    \n",
    "    keywords = soup.find('div', 'tm-article-presenter__meta').find_all('ul', 'tm-separated-list__list')\n",
    "    for i in keywords[0].find_all('a'):\n",
    "        t_tags += i.text + ', '\n",
    "    tags.append(t_tags)\n",
    "    for i in keywords[1].find_all('a'):\n",
    "        t_hubs += i.text + ', '\n",
    "    hubs.append(t_hubs)\n",
    "    t_tags = ''\n",
    "    t_hubs = ''"
   ]
  },
  {
   "cell_type": "code",
   "execution_count": 4,
   "id": "a6412daf-5930-446b-8a45-78b49bc2df4e",
   "metadata": {
    "tags": []
   },
   "outputs": [
    {
     "name": "stdout",
     "output_type": "stream",
     "text": [
      "Статьи были успешно получены\n"
     ]
    }
   ],
   "source": [
    "with open(f\"habr_data_{datetime.datetime.now().strftime('%d_%m_%Y')}.csv\", \"w\", encoding='utf-8') as f:\n",
    "    wr = csv.writer(f, quoting=csv.QUOTE_ALL)\n",
    "    wr.writerow(['post_name', 'karma', \n",
    "    'rating', 'post_content', \n",
    "    'views', 'difficulty', \n",
    "    'favorite', 'read_time',\n",
    "    'liked', 'comments', 'tags', 'hubs', 'post_link'])\n",
    "    \n",
    "    for i in range(len(karma)):\n",
    "        wr.writerow([list(article_dict.keys())[i],\n",
    "        karma[i], rating[i],\n",
    "        description[i], views[i],\n",
    "        difficulty[i], favorite[i],\n",
    "        read_time[i], liked[i],\n",
    "        comments[i],tags[i], hubs[i],\n",
    "        list(article_dict.values())[i]])\n",
    "    print('Статьи были успешно получены')"
   ]
  },
  {
   "cell_type": "markdown",
   "id": "5de44b4f",
   "metadata": {},
   "source": [
    "# Обработка данных"
   ]
  },
  {
   "cell_type": "code",
   "execution_count": 3,
   "id": "f5014b24-3ed5-4727-a322-b9f97ace73d9",
   "metadata": {
    "tags": []
   },
   "outputs": [],
   "source": [
    "import numpy as np\n",
    "pd.set_option('display.max_rows', 20)\n",
    "pd.set_option('display.max_columns', None)\n",
    "pd.set_option('display.max_colwidth', 100)\n",
    "\n",
    "df = pd.read_csv('habr_data_16_12_2023.csv')\n",
    "\n",
    "df.drop_duplicates(inplace=True)\n",
    "df.dropna(inplace=True)\n",
    "df['difficulty'] = df['difficulty'].apply(lambda x: x.replace('\\r\\n', '').strip())\n",
    "df['read_time'] = df['read_time'].apply(lambda x: x.replace('\\r\\n', '').strip())\n",
    "df['views'] = df['views'].apply(lambda x: str(float(x.replace('K', ' K').split()[0])*1000) if 'K' in x else x)\n",
    "df['views'] = df['views'].apply(lambda x: float(x.replace('M', ' M').split()[0])*1000000 if 'M' in x else x)"
   ]
  },
  {
   "cell_type": "code",
   "execution_count": 3,
   "id": "9e597ec5-ed3b-45cf-889b-e9bb4316bd37",
   "metadata": {
    "tags": []
   },
   "outputs": [],
   "source": [
    "df['hubs'] = df['hubs'].apply(lambda x: 'Робототехника' if 'Робототехника' in x else x)\n",
    "df['hubs'] = df['hubs'].apply(lambda x: 'Разработка игр' if 'Разработка игр' in x else x)\n",
    "df['hubs'] = df['hubs'].apply(lambda x: 'Звук' if 'Звук' in x else x)\n",
    "df['hubs'] = df['hubs'].apply(lambda x: 'Искусственный интеллект' if 'Искусственный интеллект' in x else x)\n",
    "df['hubs'] = df['hubs'].apply(lambda x: 'Программирование' if 'Программирование' in x else x)\n",
    "df['hubs'] = df['hubs'].apply(lambda x: 'Дизайн' if 'Дизайн' in x else x)\n",
    "\n",
    "# 14_12_23\n",
    "# df['hubs'] = df['hubs'].apply(lambda x: 'Искусственный интеллект' if 'Искусственный интеллект' in x else x)\n",
    "# df['hubs'] = df['hubs'].apply(lambda x: 'Программирование' if 'Программирование' in x else x)\n",
    "# df['hubs'] = df['hubs'].apply(lambda x: 'Научно-популярное' if 'Научно-популярное' in x else x)\n",
    "# df['hubs'] = df['hubs'].apply(lambda x: 'Разработка игр' if 'Разработка игр' in x else x)\n",
    "# df['hubs'] = df['hubs'].apply(lambda x: 'Анализ и проектирование систем' if 'Анализ и проектирование систем' in x else x)"
   ]
  },
  {
   "cell_type": "code",
   "execution_count": 4,
   "id": "d8f6df3f-24e1-4fb0-96a4-672c6406d1b0",
   "metadata": {
    "tags": []
   },
   "outputs": [
    {
     "name": "stderr",
     "output_type": "stream",
     "text": [
      "[nltk_data] Downloading package stopwords to\n",
      "[nltk_data]     C:\\Users\\ivve2\\AppData\\Roaming\\nltk_data...\n",
      "[nltk_data]   Package stopwords is already up-to-date!\n",
      "[nltk_data] Downloading package punkt to\n",
      "[nltk_data]     C:\\Users\\ivve2\\AppData\\Roaming\\nltk_data...\n",
      "[nltk_data]   Package punkt is already up-to-date!\n"
     ]
    },
    {
     "data": {
      "text/plain": [
       "True"
      ]
     },
     "execution_count": 4,
     "metadata": {},
     "output_type": "execute_result"
    }
   ],
   "source": [
    "import nltk\n",
    "from nltk.corpus import stopwords\n",
    "from nltk import word_tokenize\n",
    "from nltk.stem.snowball import SnowballStemmer\n",
    "nltk.download('stopwords')\n",
    "nltk.download('punkt')"
   ]
  },
  {
   "cell_type": "code",
   "execution_count": 5,
   "id": "032db3ba-68e3-480e-a15d-b031396c57ae",
   "metadata": {
    "tags": []
   },
   "outputs": [
    {
     "name": "stdout",
     "output_type": "stream",
     "text": [
      "CPU times: total: 1min 17s\n",
      "Wall time: 1min 17s\n"
     ]
    }
   ],
   "source": [
    "%%time\n",
    "def remove_stopwords(text, language):\n",
    "    stop_words = set(stopwords.words(language))\n",
    "    words = word_tokenize(text)\n",
    "    filtered_text = ' '.join([word for word in words if word.lower() not in stop_words])\n",
    "    return filtered_text\n",
    "\n",
    "df['post_content'] = df['post_content'].apply(lambda x: remove_stopwords(x, 'english'))\n",
    "df['post_content'] = df['post_content'].apply(lambda x: remove_stopwords(x, 'russian'))"
   ]
  },
  {
   "cell_type": "code",
   "execution_count": 6,
   "id": "abd7c29e-5cba-4ebe-8d1a-8bce7c0e1bb8",
   "metadata": {
    "tags": []
   },
   "outputs": [],
   "source": [
    "import re\n",
    "import pymorphy2\n",
    "def df_preprocess(text):\n",
    "    reg = re.compile('[^а-яА-яa-zA-Z0-9 ]')\n",
    "    text = text.lower().replace(\"ё\", \"е\")\n",
    "    text = text.replace('ии', 'ai')\n",
    "    text = re.sub('((www\\.[^\\s]+)|(http?://[^\\s]+))', 'сайт', text)\n",
    "    text = reg.sub(' ', text)\n",
    "    \n",
    "    # Лемматизация\n",
    "    morph = pymorphy2.MorphAnalyzer(lang='ru')\n",
    "    text = [morph.parse(word)[0].normal_form for word in text.split()]\n",
    "    text = [i.replace('сетея', 'сеть') for i in text]\n",
    "    # Стемминг\n",
    "    # stemmer = SnowballStemmer(\"russian\")\n",
    "    # text =[stemmer.stem(word) for word in text.split()]\n",
    "\n",
    "    return text"
   ]
  },
  {
   "cell_type": "code",
   "execution_count": 63,
   "id": "fec44944-5478-4111-b2d5-7ff7fe61f28f",
   "metadata": {
    "tags": []
   },
   "outputs": [
    {
     "name": "stdout",
     "output_type": "stream",
     "text": [
      "CPU times: total: 14min 51s\n",
      "Wall time: 14min 54s\n"
     ]
    },
    {
     "data": {
      "text/plain": [
       "0       [маленький, снизойти, милость, божый, ниспослать, два, книжка, один, книжка, бейсик, студент, ка...\n",
       "1       [здравствуй, уважаемый, хабра, этот, статья, описывать, объектный, ориентировать, онтологический...\n",
       "3       [наверное, слышать, процесс, собеседование, faang, bigtech, leetcode, задача, системный, дизайн,...\n",
       "4       [давно, работать, сниппет, помощь, создавать, скелет, модуль, функция, конструкция, given, стано...\n",
       "5       [привет, это, команда, курс, python, разработчик, недавно, провести, рефакторинг, большой, обнов...\n",
       "                                                       ...                                                 \n",
       "4549    [материал, статья, взять, мой, дзен, канал, в, прошлый, статья, внести, ясность, корректный, зав...\n",
       "4552    [материал, статья, взять, мой, дзен, канал, статья, 1, статья, 2, статья, 3, статья, 4, статья, ...\n",
       "4558    [автоматический, распознавание, речь, stt, asr, пройти, долгий, путь, совершенствование, иметь, ...\n",
       "4574    [решенai, задача, связанный, распознавание, speech, to, text, генерация, text, to, speech, речь,...\n",
       "4593    [поговорить, низкий, порог, вход, творческий, профессai, билли, айлиш, должный, строить, работа,...\n",
       "Name: post_content, Length: 3465, dtype: object"
      ]
     },
     "execution_count": 63,
     "metadata": {},
     "output_type": "execute_result"
    }
   ],
   "source": [
    "%%time\n",
    "df.post_content.apply(df_preprocess)"
   ]
  },
  {
   "cell_type": "code",
   "execution_count": 154,
   "id": "34bcbfb8-d755-440a-b456-bd679135edf0",
   "metadata": {
    "tags": []
   },
   "outputs": [],
   "source": [
    "df1 = pd.read_csv('model_data.csv')\n",
    "df1.drop(columns='Unnamed: 0', inplace=True)\n",
    "df1.dropna(inplace=True)"
   ]
  },
  {
   "cell_type": "code",
   "execution_count": 155,
   "id": "e77546b8-6aad-4723-9735-95351f93811d",
   "metadata": {
    "tags": []
   },
   "outputs": [],
   "source": [
    "from sklearn.model_selection import train_test_split\n",
    "from sklearn.feature_extraction.text import CountVectorizer\n",
    "from sklearn.feature_extraction.text import TfidfVectorizer\n",
    "from sklearn.decomposition import NMF, LatentDirichletAllocation, TruncatedSVD\n",
    "from sklearn.feature_selection import SelectFromModel\n",
    "from sklearn.svm import LinearSVC\n",
    "from sklearn.linear_model import LogisticRegression\n",
    "from sklearn.model_selection import cross_val_score\n",
    "\n",
    "x_train_h, x_test_h, y_train_h, y_test_h = train_test_split(df1.post_content, df1.hubs, test_size=0.1, random_state=42)"
   ]
  },
  {
   "cell_type": "code",
   "execution_count": 156,
   "id": "75ddba90-47e0-4e2c-af41-c3d86a156bc5",
   "metadata": {
    "tags": []
   },
   "outputs": [],
   "source": [
    "vectorizer = CountVectorizer(ngram_range=(1,2), analyzer='word')\n",
    "x_train_BOW_bi = vectorizer.fit_transform(x_train_h)\n",
    "x_test_BOW_bi = vectorizer.transform(x_test_h)"
   ]
  },
  {
   "cell_type": "code",
   "execution_count": 10,
   "id": "9b45c8b1-2acb-4193-af5c-7bac2341121e",
   "metadata": {
    "tags": []
   },
   "outputs": [],
   "source": [
    "vectorizer = TfidfVectorizer(ngram_range=(1,3))\n",
    "\n",
    "x_train_TFIDF = vectorizer.fit_transform(x_train_h)\n",
    "x_test_TFIDF = vectorizer.transform(x_test_h)"
   ]
  },
  {
   "cell_type": "code",
   "execution_count": 11,
   "id": "800658a5-7bf3-4837-b8d1-aa510ecb6f0b",
   "metadata": {
    "tags": []
   },
   "outputs": [
    {
     "name": "stdout",
     "output_type": "stream",
     "text": [
      "CPU times: total: 22min 4s\n",
      "Wall time: 7min 32s\n"
     ]
    },
    {
     "data": {
      "text/html": [
       "<style>#sk-container-id-1 {color: black;}#sk-container-id-1 pre{padding: 0;}#sk-container-id-1 div.sk-toggleable {background-color: white;}#sk-container-id-1 label.sk-toggleable__label {cursor: pointer;display: block;width: 100%;margin-bottom: 0;padding: 0.3em;box-sizing: border-box;text-align: center;}#sk-container-id-1 label.sk-toggleable__label-arrow:before {content: \"▸\";float: left;margin-right: 0.25em;color: #696969;}#sk-container-id-1 label.sk-toggleable__label-arrow:hover:before {color: black;}#sk-container-id-1 div.sk-estimator:hover label.sk-toggleable__label-arrow:before {color: black;}#sk-container-id-1 div.sk-toggleable__content {max-height: 0;max-width: 0;overflow: hidden;text-align: left;background-color: #f0f8ff;}#sk-container-id-1 div.sk-toggleable__content pre {margin: 0.2em;color: black;border-radius: 0.25em;background-color: #f0f8ff;}#sk-container-id-1 input.sk-toggleable__control:checked~div.sk-toggleable__content {max-height: 200px;max-width: 100%;overflow: auto;}#sk-container-id-1 input.sk-toggleable__control:checked~label.sk-toggleable__label-arrow:before {content: \"▾\";}#sk-container-id-1 div.sk-estimator input.sk-toggleable__control:checked~label.sk-toggleable__label {background-color: #d4ebff;}#sk-container-id-1 div.sk-label input.sk-toggleable__control:checked~label.sk-toggleable__label {background-color: #d4ebff;}#sk-container-id-1 input.sk-hidden--visually {border: 0;clip: rect(1px 1px 1px 1px);clip: rect(1px, 1px, 1px, 1px);height: 1px;margin: -1px;overflow: hidden;padding: 0;position: absolute;width: 1px;}#sk-container-id-1 div.sk-estimator {font-family: monospace;background-color: #f0f8ff;border: 1px dotted black;border-radius: 0.25em;box-sizing: border-box;margin-bottom: 0.5em;}#sk-container-id-1 div.sk-estimator:hover {background-color: #d4ebff;}#sk-container-id-1 div.sk-parallel-item::after {content: \"\";width: 100%;border-bottom: 1px solid gray;flex-grow: 1;}#sk-container-id-1 div.sk-label:hover label.sk-toggleable__label {background-color: #d4ebff;}#sk-container-id-1 div.sk-serial::before {content: \"\";position: absolute;border-left: 1px solid gray;box-sizing: border-box;top: 0;bottom: 0;left: 50%;z-index: 0;}#sk-container-id-1 div.sk-serial {display: flex;flex-direction: column;align-items: center;background-color: white;padding-right: 0.2em;padding-left: 0.2em;position: relative;}#sk-container-id-1 div.sk-item {position: relative;z-index: 1;}#sk-container-id-1 div.sk-parallel {display: flex;align-items: stretch;justify-content: center;background-color: white;position: relative;}#sk-container-id-1 div.sk-item::before, #sk-container-id-1 div.sk-parallel-item::before {content: \"\";position: absolute;border-left: 1px solid gray;box-sizing: border-box;top: 0;bottom: 0;left: 50%;z-index: -1;}#sk-container-id-1 div.sk-parallel-item {display: flex;flex-direction: column;z-index: 1;position: relative;background-color: white;}#sk-container-id-1 div.sk-parallel-item:first-child::after {align-self: flex-end;width: 50%;}#sk-container-id-1 div.sk-parallel-item:last-child::after {align-self: flex-start;width: 50%;}#sk-container-id-1 div.sk-parallel-item:only-child::after {width: 0;}#sk-container-id-1 div.sk-dashed-wrapped {border: 1px dashed gray;margin: 0 0.4em 0.5em 0.4em;box-sizing: border-box;padding-bottom: 0.4em;background-color: white;}#sk-container-id-1 div.sk-label label {font-family: monospace;font-weight: bold;display: inline-block;line-height: 1.2em;}#sk-container-id-1 div.sk-label-container {text-align: center;}#sk-container-id-1 div.sk-container {/* jupyter's `normalize.less` sets `[hidden] { display: none; }` but bootstrap.min.css set `[hidden] { display: none !important; }` so we also need the `!important` here to be able to override the default hidden behavior on the sphinx rendered scikit-learn.org. See: https://github.com/scikit-learn/scikit-learn/issues/21755 */display: inline-block !important;position: relative;}#sk-container-id-1 div.sk-text-repr-fallback {display: none;}</style><div id=\"sk-container-id-1\" class=\"sk-top-container\"><div class=\"sk-text-repr-fallback\"><pre>TruncatedSVD(n_components=20, random_state=42)</pre><b>In a Jupyter environment, please rerun this cell to show the HTML representation or trust the notebook. <br />On GitHub, the HTML representation is unable to render, please try loading this page with nbviewer.org.</b></div><div class=\"sk-container\" hidden><div class=\"sk-item\"><div class=\"sk-estimator sk-toggleable\"><input class=\"sk-toggleable__control sk-hidden--visually\" id=\"sk-estimator-id-1\" type=\"checkbox\" checked><label for=\"sk-estimator-id-1\" class=\"sk-toggleable__label sk-toggleable__label-arrow\">TruncatedSVD</label><div class=\"sk-toggleable__content\"><pre>TruncatedSVD(n_components=20, random_state=42)</pre></div></div></div></div></div>"
      ],
      "text/plain": [
       "TruncatedSVD(n_components=20, random_state=42)"
      ]
     },
     "execution_count": 11,
     "metadata": {},
     "output_type": "execute_result"
    }
   ],
   "source": [
    "%%time\n",
    "no_topics = 20\n",
    "no_top_words=10\n",
    "\n",
    "LDA = LatentDirichletAllocation(n_components=no_topics, max_iter=5, learning_method='online', learning_offset=50.,random_state=42)\n",
    "LDA.fit(x_train_BOW_bi)\n",
    "\n",
    "nmf = NMF(n_components=no_topics, random_state=42, l1_ratio=.5, init='nndsvd')\n",
    "nmf.fit(x_train_BOW_bi)\n",
    "\n",
    "LSA = TruncatedSVD(n_components=no_topics, random_state=42)\n",
    "LSA.fit(x_train_BOW_bi)"
   ]
  },
  {
   "cell_type": "code",
   "execution_count": 12,
   "id": "9e006248-9892-408c-8ab9-66c09975ca54",
   "metadata": {
    "tags": []
   },
   "outputs": [],
   "source": [
    "def topics_max(mod_data,model):\n",
    "    top_n=[]\n",
    "    for i in range(mod_data.shape[0]):\n",
    "        top_max=[]\n",
    "        topic_list=model.transform(x_train_BOW_bi[i,:])\n",
    "        top_max.append(np.max(topic_list))\n",
    "        top_max.append(np.argmax(topic_list))  \n",
    "        top_n.append(top_max)\n",
    "    return np.array(top_n)"
   ]
  },
  {
   "cell_type": "code",
   "execution_count": 13,
   "id": "48fa8423-4137-4397-a8b1-f1022d750840",
   "metadata": {
    "tags": []
   },
   "outputs": [],
   "source": [
    "top_lda=topics_max(x_train_BOW_bi, LDA)\n",
    "\n",
    "ds_topic = pd.DataFrame(x_train_BOW_bi)\n",
    "\n",
    "ds_topic['topic_lda']=top_lda[:,1]\n",
    "ds_topic['probability_lda']=top_lda[:,0]\n",
    "ds_topic['y']=y_train_h\n",
    "ds_topic"
   ]
  },
  {
   "cell_type": "markdown",
   "id": "acffd622",
   "metadata": {},
   "source": [
    "# Обучение и тесты модели"
   ]
  },
  {
   "cell_type": "code",
   "execution_count": 257,
   "id": "faf50ef5-6b38-4ceb-8ee0-20cbc74d6635",
   "metadata": {
    "tags": []
   },
   "outputs": [],
   "source": [
    "from sklearn.cluster import KMeans\n",
    "\n",
    "vectorizer = CountVectorizer()\n",
    "X = vectorizer.fit_transform(x_train_h)\n",
    "\n",
    "data = pd.DataFrame(df['hubs'].iloc[x_train_h.index])\n",
    "\n",
    "kmeans = KMeans(n_clusters=6, random_state=42)\n",
    "data['cluster'] = kmeans.fit_predict(X)"
   ]
  },
  {
   "cell_type": "code",
   "execution_count": 252,
   "id": "722d4f2d-c6b4-4638-bc6e-3c0e5cc2ca37",
   "metadata": {
    "tags": []
   },
   "outputs": [
    {
     "data": {
      "text/plain": [
       "cluster\n",
       "0    457\n",
       "1    128\n",
       "Name: count, dtype: int64"
      ]
     },
     "execution_count": 252,
     "metadata": {},
     "output_type": "execute_result"
    }
   ],
   "source": [
    "data['cluster'][df['hubs'] == 'Программирование'].value_counts()"
   ]
  },
  {
   "cell_type": "code",
   "execution_count": 258,
   "id": "6dc4b711-a421-4797-b5d8-e60b744ecb17",
   "metadata": {
    "tags": []
   },
   "outputs": [
    {
     "data": {
      "text/html": [
       "<div>\n",
       "<style scoped>\n",
       "    .dataframe tbody tr th:only-of-type {\n",
       "        vertical-align: middle;\n",
       "    }\n",
       "\n",
       "    .dataframe tbody tr th {\n",
       "        vertical-align: top;\n",
       "    }\n",
       "\n",
       "    .dataframe thead th {\n",
       "        text-align: right;\n",
       "    }\n",
       "</style>\n",
       "<table border=\"1\" class=\"dataframe\">\n",
       "  <thead>\n",
       "    <tr style=\"text-align: right;\">\n",
       "      <th></th>\n",
       "      <th>prog</th>\n",
       "      <th>ai</th>\n",
       "      <th>game</th>\n",
       "      <th>design</th>\n",
       "      <th>sound</th>\n",
       "      <th>robot</th>\n",
       "    </tr>\n",
       "    <tr>\n",
       "      <th>cluster</th>\n",
       "      <th></th>\n",
       "      <th></th>\n",
       "      <th></th>\n",
       "      <th></th>\n",
       "      <th></th>\n",
       "      <th></th>\n",
       "    </tr>\n",
       "  </thead>\n",
       "  <tbody>\n",
       "    <tr>\n",
       "      <th>0</th>\n",
       "      <td>315.0</td>\n",
       "      <td>380.0</td>\n",
       "      <td>405.0</td>\n",
       "      <td>362.0</td>\n",
       "      <td>345.0</td>\n",
       "      <td>222.0</td>\n",
       "    </tr>\n",
       "    <tr>\n",
       "      <th>1</th>\n",
       "      <td>2.0</td>\n",
       "      <td>5.0</td>\n",
       "      <td>1.0</td>\n",
       "      <td>3.0</td>\n",
       "      <td>NaN</td>\n",
       "      <td>NaN</td>\n",
       "    </tr>\n",
       "    <tr>\n",
       "      <th>2</th>\n",
       "      <td>1.0</td>\n",
       "      <td>NaN</td>\n",
       "      <td>NaN</td>\n",
       "      <td>NaN</td>\n",
       "      <td>NaN</td>\n",
       "      <td>NaN</td>\n",
       "    </tr>\n",
       "    <tr>\n",
       "      <th>3</th>\n",
       "      <td>47.0</td>\n",
       "      <td>26.0</td>\n",
       "      <td>47.0</td>\n",
       "      <td>20.0</td>\n",
       "      <td>10.0</td>\n",
       "      <td>12.0</td>\n",
       "    </tr>\n",
       "    <tr>\n",
       "      <th>4</th>\n",
       "      <td>NaN</td>\n",
       "      <td>1.0</td>\n",
       "      <td>NaN</td>\n",
       "      <td>NaN</td>\n",
       "      <td>NaN</td>\n",
       "      <td>NaN</td>\n",
       "    </tr>\n",
       "    <tr>\n",
       "      <th>5</th>\n",
       "      <td>220.0</td>\n",
       "      <td>203.0</td>\n",
       "      <td>177.0</td>\n",
       "      <td>155.0</td>\n",
       "      <td>73.0</td>\n",
       "      <td>86.0</td>\n",
       "    </tr>\n",
       "  </tbody>\n",
       "</table>\n",
       "</div>"
      ],
      "text/plain": [
       "          prog     ai   game  design  sound  robot\n",
       "cluster                                           \n",
       "0        315.0  380.0  405.0   362.0  345.0  222.0\n",
       "1          2.0    5.0    1.0     3.0    NaN    NaN\n",
       "2          1.0    NaN    NaN     NaN    NaN    NaN\n",
       "3         47.0   26.0   47.0    20.0   10.0   12.0\n",
       "4          NaN    1.0    NaN     NaN    NaN    NaN\n",
       "5        220.0  203.0  177.0   155.0   73.0   86.0"
      ]
     },
     "execution_count": 258,
     "metadata": {},
     "output_type": "execute_result"
    }
   ],
   "source": [
    "prog = data['cluster'][data['hubs'] == 'Программирование'].value_counts()\n",
    "ai = data['cluster'][data['hubs'] == 'Искусственный интеллект'].value_counts()\n",
    "game = data['cluster'][data['hubs'] == 'Разработка игр'].value_counts()\n",
    "design = data['cluster'][data['hubs'] == 'Дизайн'].value_counts()\n",
    "sound = data['cluster'][data['hubs'] == 'Звук'].value_counts()\n",
    "robot = data['cluster'][data['hubs'] == 'Робототехника'].value_counts()\n",
    "\n",
    "pd.DataFrame({'prog':prog, 'ai':ai, 'game':game, 'design':design, 'sound':sound, 'robot':robot})"
   ]
  },
  {
   "cell_type": "markdown",
   "id": "5353f8c3-f1d1-46f6-8301-5179b67c16d7",
   "metadata": {},
   "source": [
    "## Отбор особенностей"
   ]
  },
  {
   "cell_type": "code",
   "execution_count": 157,
   "id": "45a54263-4c80-4833-8352-b86e2794b33f",
   "metadata": {
    "tags": []
   },
   "outputs": [],
   "source": [
    "lsvc = LinearSVC(C=.5, dual=True, random_state=42)\n",
    "selective_model = SelectFromModel(lsvc, max_features=None)\n",
    "\n",
    "x_train_BOW_bi_select_features = selective_model.fit_transform(x_train_BOW_bi, y_train_h)\n",
    "x_test_BOW_bi_select_features = selective_model.transform(x_test_BOW_bi)"
   ]
  },
  {
   "cell_type": "code",
   "execution_count": 158,
   "id": "f0758b92-8731-47a2-96fa-deabb163589a",
   "metadata": {
    "tags": []
   },
   "outputs": [
    {
     "name": "stdout",
     "output_type": "stream",
     "text": [
      "0.8213256484149856\n"
     ]
    }
   ],
   "source": [
    "clf = LogisticRegression(random_state=42)\n",
    "clf.fit(x_train_BOW_bi_select_features, y_train_h)\n",
    "print(clf.score(x_test_BOW_bi_select_features, y_test_h))"
   ]
  },
  {
   "cell_type": "code",
   "execution_count": 159,
   "id": "8b8cb78a-0a0d-4c9d-8ed2-b50942ba37ef",
   "metadata": {
    "tags": []
   },
   "outputs": [
    {
     "name": "stdout",
     "output_type": "stream",
     "text": [
      "0.8213256484149856\n"
     ]
    },
    {
     "data": {
      "text/html": [
       "<div>\n",
       "<style scoped>\n",
       "    .dataframe tbody tr th:only-of-type {\n",
       "        vertical-align: middle;\n",
       "    }\n",
       "\n",
       "    .dataframe tbody tr th {\n",
       "        vertical-align: top;\n",
       "    }\n",
       "\n",
       "    .dataframe thead th {\n",
       "        text-align: right;\n",
       "    }\n",
       "</style>\n",
       "<table border=\"1\" class=\"dataframe\">\n",
       "  <thead>\n",
       "    <tr style=\"text-align: right;\">\n",
       "      <th></th>\n",
       "      <th>hubs</th>\n",
       "      <th>predict</th>\n",
       "    </tr>\n",
       "  </thead>\n",
       "  <tbody>\n",
       "    <tr>\n",
       "      <th>3064</th>\n",
       "      <td>Звук</td>\n",
       "      <td>Робототехника</td>\n",
       "    </tr>\n",
       "    <tr>\n",
       "      <th>410</th>\n",
       "      <td>Программирование</td>\n",
       "      <td>Искусственный интеллект</td>\n",
       "    </tr>\n",
       "    <tr>\n",
       "      <th>3182</th>\n",
       "      <td>Звук</td>\n",
       "      <td>Звук</td>\n",
       "    </tr>\n",
       "    <tr>\n",
       "      <th>1578</th>\n",
       "      <td>Робототехника</td>\n",
       "      <td>Робототехника</td>\n",
       "    </tr>\n",
       "    <tr>\n",
       "      <th>1283</th>\n",
       "      <td>Искусственный интеллект</td>\n",
       "      <td>Искусственный интеллект</td>\n",
       "    </tr>\n",
       "    <tr>\n",
       "      <th>...</th>\n",
       "      <td>...</td>\n",
       "      <td>...</td>\n",
       "    </tr>\n",
       "    <tr>\n",
       "      <th>3040</th>\n",
       "      <td>Звук</td>\n",
       "      <td>Звук</td>\n",
       "    </tr>\n",
       "    <tr>\n",
       "      <th>1779</th>\n",
       "      <td>Дизайн</td>\n",
       "      <td>Дизайн</td>\n",
       "    </tr>\n",
       "    <tr>\n",
       "      <th>2429</th>\n",
       "      <td>Разработка игр</td>\n",
       "      <td>Разработка игр</td>\n",
       "    </tr>\n",
       "    <tr>\n",
       "      <th>2942</th>\n",
       "      <td>Разработка игр</td>\n",
       "      <td>Разработка игр</td>\n",
       "    </tr>\n",
       "    <tr>\n",
       "      <th>358</th>\n",
       "      <td>Программирование</td>\n",
       "      <td>Программирование</td>\n",
       "    </tr>\n",
       "  </tbody>\n",
       "</table>\n",
       "<p>347 rows × 2 columns</p>\n",
       "</div>"
      ],
      "text/plain": [
       "                         hubs                  predict\n",
       "3064                     Звук            Робототехника\n",
       "410          Программирование  Искусственный интеллект\n",
       "3182                     Звук                     Звук\n",
       "1578            Робототехника            Робототехника\n",
       "1283  Искусственный интеллект  Искусственный интеллект\n",
       "...                       ...                      ...\n",
       "3040                     Звук                     Звук\n",
       "1779                   Дизайн                   Дизайн\n",
       "2429           Разработка игр           Разработка игр\n",
       "2942           Разработка игр           Разработка игр\n",
       "358          Программирование         Программирование\n",
       "\n",
       "[347 rows x 2 columns]"
      ]
     },
     "execution_count": 159,
     "metadata": {},
     "output_type": "execute_result"
    }
   ],
   "source": [
    "from sklearn.metrics import accuracy_score\n",
    "pd.set_option('display.max_rows', 60)\n",
    "\n",
    "p = clf.predict(x_test_BOW_bi_select_features)\n",
    "frame = pd.DataFrame(y_test_h)\n",
    "frame['predict'] = p\n",
    "frame.columns = ['hubs', 'predict']\n",
    "print(accuracy_score(y_test_h, p))\n",
    "frame"
   ]
  },
  {
   "cell_type": "code",
   "execution_count": 202,
   "id": "4083e7bb-206c-410f-adc7-d4c762f1a9f1",
   "metadata": {
    "tags": []
   },
   "outputs": [
    {
     "name": "stdout",
     "output_type": "stream",
     "text": [
      "CPU times: total: 25min 1s\n",
      "Wall time: 5min 38s\n",
      "tuned hpyerparameters :(best parameters)  {'C': 0.1, 'penalty': 'l2', 'solver': 'liblinear'}\n",
      "accuracy : 0.826173774092446\n"
     ]
    }
   ],
   "source": [
    "from sklearn.model_selection import GridSearchCV\n",
    "     \n",
    "\n",
    "grid={\n",
    "      \"C\":[i/10 for i in range(1, 3)], \n",
    "      \"penalty\":['l2', 'l1'],\n",
    "      \"solver\":['lbfgs', 'liblinear', 'saga']\n",
    "      }\n",
    "\n",
    "clf=LogisticRegression()\n",
    "logreg_cv=GridSearchCV(clf,grid,cv=3)\n",
    "%time logreg_cv.fit(x_train_BOW_bi_select_features, y_train_h)\n",
    "\n",
    "print(\"tuned hpyerparameters :(best parameters) \", logreg_cv.best_params_)\n",
    "print(\"accuracy :\", logreg_cv.best_score_)"
   ]
  },
  {
   "cell_type": "code",
   "execution_count": 203,
   "id": "dd7c301d-ddd6-4eee-aaae-08a7b8afdb7b",
   "metadata": {
    "tags": []
   },
   "outputs": [
    {
     "data": {
      "text/plain": [
       "0.8328530259365994"
      ]
     },
     "execution_count": 203,
     "metadata": {},
     "output_type": "execute_result"
    }
   ],
   "source": [
    "clf = LogisticRegression(C=0.1, penalty='l2', solver='liblinear', random_state=42)\n",
    "clf.fit(x_train_BOW_bi_select_features, y_train_h)\n",
    "clf.score(x_test_BOW_bi_select_features, y_test_h)"
   ]
  },
  {
   "cell_type": "code",
   "execution_count": 205,
   "id": "1bd9c0b8-90a5-4a97-aa52-78769ace8947",
   "metadata": {
    "tags": []
   },
   "outputs": [
    {
     "name": "stdout",
     "output_type": "stream",
     "text": [
      "LogisticRegression(C=0.1, random_state=42, solver='liblinear') \n",
      "Cross-validate:  [0.81634615 0.82001925 0.84215592]\n"
     ]
    }
   ],
   "source": [
    "scores = cross_val_score(clf, x_train_BOW_bi_select_features, y_train_h, cv=3, scoring='accuracy')\n",
    "print(clf,'\\nCross-validate: ', scores)"
   ]
  },
  {
   "cell_type": "code",
   "execution_count": 167,
   "id": "b0f993ce-0320-46f4-b873-6f148738b2c7",
   "metadata": {
    "tags": []
   },
   "outputs": [
    {
     "data": {
      "text/plain": [
       "['model.joblib']"
      ]
     },
     "execution_count": 167,
     "metadata": {},
     "output_type": "execute_result"
    }
   ],
   "source": [
    "from joblib import dump\n",
    "\n",
    "dump(clf, 'model.joblib')"
   ]
  },
  {
   "cell_type": "markdown",
   "id": "c5351b0d",
   "metadata": {},
   "source": [
    "# Telegram бот"
   ]
  },
  {
   "cell_type": "code",
   "execution_count": 166,
   "id": "cee1c005-e442-4d11-a139-43963608d3e0",
   "metadata": {
    "tags": []
   },
   "outputs": [
    {
     "name": "stderr",
     "output_type": "stream",
     "text": [
      "2023-12-17 22:17:01,984 (__init__.py:966 MainThread) ERROR - TeleBot: \"Infinity polling: polling exited\"\n",
      "2023-12-17 22:17:01,985 (__init__.py:968 MainThread) ERROR - TeleBot: \"Break infinity polling\"\n"
     ]
    }
   ],
   "source": [
    "import telebot\n",
    "from joblib import load\n",
    "\n",
    "API_TOKEN = 'TOKEN'\n",
    "bot = telebot.TeleBot(API_TOKEN)\n",
    "model = load('model.joblib')\n",
    "\n",
    "@bot.message_handler(commands=['help', 'start'])\n",
    "def send_welcome(message):\n",
    "    bot.reply_to(message, \"\"\"Привет. Я бот для распознавания тем статей, я помогу вам узнать к какой теме относиться текст который вы мне отправите\n",
    "для того что бы узнать тему напишите: хочу узнать\"\"\")\n",
    "\n",
    "@bot.message_handler(func=lambda message: True if message.text == 'хочу узнать' else False)\n",
    "def echo_message(message):\n",
    "    bot.reply_to(message, 'Введите свой текст')\n",
    "    bot.register_next_step_handler(message, predict_message)\n",
    "    \n",
    "def predict_message(message):\n",
    "    query = remove_stopwords(message.text, 'english')\n",
    "    query = remove_stopwords(message.text, 'russian')\n",
    "    \n",
    "    bot.reply_to(message, model.predict(selective_model.transform(vectorizer.transform([query]))))\n",
    "\n",
    "bot.infinity_polling()"
   ]
  },
  {
   "cell_type": "code",
   "execution_count": null,
   "id": "85cbe043-678f-4133-9956-020adfaac395",
   "metadata": {},
   "outputs": [],
   "source": []
  }
 ],
 "metadata": {
  "kernelspec": {
   "display_name": "Python 3 (ipykernel)",
   "language": "python",
   "name": "python3"
  },
  "language_info": {
   "codemirror_mode": {
    "name": "ipython",
    "version": 3
   },
   "file_extension": ".py",
   "mimetype": "text/x-python",
   "name": "python",
   "nbconvert_exporter": "python",
   "pygments_lexer": "ipython3",
   "version": "3.11.5"
  }
 },
 "nbformat": 4,
 "nbformat_minor": 5
}
